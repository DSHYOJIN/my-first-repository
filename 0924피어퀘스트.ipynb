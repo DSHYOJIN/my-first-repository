{
  "nbformat": 4,
  "nbformat_minor": 0,
  "metadata": {
    "colab": {
      "provenance": [],
      "authorship_tag": "ABX9TyMFVVz6XHPPnR88EB9VPVQA",
      "include_colab_link": true
    },
    "kernelspec": {
      "name": "python3",
      "display_name": "Python 3"
    },
    "language_info": {
      "name": "python"
    }
  },
  "cells": [
    {
      "cell_type": "markdown",
      "metadata": {
        "id": "view-in-github",
        "colab_type": "text"
      },
      "source": [
        "<a href=\"https://colab.research.google.com/github/DSHYOJIN/my-first-repository/blob/master/0924%ED%94%BC%EC%96%B4%ED%80%98%EC%8A%A4%ED%8A%B8.ipynb\" target=\"_parent\"><img src=\"https://colab.research.google.com/assets/colab-badge.svg\" alt=\"Open In Colab\"/></a>"
      ]
    },
    {
      "cell_type": "code",
      "execution_count": 1,
      "metadata": {
        "id": "Gz02v5ajhQhi"
      },
      "outputs": [],
      "source": [
        "import random\n",
        "\n",
        "class Account:\n",
        "    bank = \"모두은행\"\n",
        "    cnt = 0\n",
        "# > original\n",
        "## > 내가\n",
        "## 배운점: 전역변수를 사용함으로써 좀 더 객체 지향 프로그램이 되었음\n",
        "## 부모-자식 class 상속받을 때 귀찮게 많이 안써도 됨. cnt 로 연결되어있어서 ㄱㅊ\n",
        "## bal = 0 이라고 해줌으로써 숫자가 들어올 수 있게!\n",
        "    def __init__(self, name, bal=0):\n",
        "        self.name = name\n",
        "        self.bal = bal\n",
        "        self.num = f\"{random.randint(100,999)}-{random.randint(10,99)}-{random.randint(100000,999999)}\" ##여기서 나는 오류가 났던 게 :3 / :2 / :6 번 반복하고 싶다고 써서 수백가지의 숫자가 나옴..\n",
        "        self.in_cnt = 0 # 몇 번 입금했나.\n",
        "        self.hist = []  # 입출금 기록\n",
        "\n",
        "        Account.cnt += 1  # 계좌 개수.\n",
        "\n",
        "    def dep(self, amt): #입금\n",
        "        if amt < 1:\n",
        "            return\n",
        "        self.bal += amt\n",
        "        self.in_cnt += 1\n",
        "        self.hist.append((\"입금\", amt, self.bal)) ## amt\n",
        "\n",
        "        if self.in_cnt % 5 == 0:\n",
        "            interest = int(self.bal * 0.01)\n",
        "            self.bal += interest\n",
        "            self.hist.append((\"이자지급\", interest, self.bal))\n",
        "\n",
        "\n",
        "    def wd(self, amt):\n",
        "        if amt <= self.bal:\n",
        "            self.bal -= amt\n",
        "            self.hist.append((\"출금\", amt, self.bal))\n",
        "\n",
        "        else:\n",
        "            print('잔고가 부족해요') # 굳이 append안함. 조건에 없어서.\n",
        "            self.hist.append((\"출금실패\", amt, self.bal))\n",
        "            self.active = False\n",
        "\n",
        "\n",
        "    @classmethod\n",
        "    def get_account_num(cls):\n",
        "        return cls.cnt\n",
        "\n",
        "    def history(self):\n",
        "        for i, h in enumerate(self.hist, 1):\n",
        "            print(f\"{i}회: {h[0]} 금액:{h[1]} 잔액:{h[2]}\") ## 계좌내역!!\n",
        "\n",
        "    def reset_account(self):\n",
        "        self.bal = 0\n",
        "        self.in_cnt = 0\n",
        "        self.hist = []\n"
      ]
    },
    {
      "cell_type": "code",
      "source": [
        "# a.reset_account()\n",
        "# b.reset_account()\n",
        "\n",
        "a = Account('a', 10000)\n",
        "b = Account('b', 10000)\n",
        "\n",
        "\n",
        "print('a')\n",
        "a.dep(500)\n",
        "a.dep(500)\n",
        "a.dep(500)\n",
        "a.dep(500)\n",
        "a.dep(500)\n",
        "a.wd(200)\n",
        "a.history()\n",
        "\n",
        "\n",
        "print('-----')\n",
        "print('-----')\n",
        "print('-----')\n",
        "\n",
        "print('b')\n",
        "b.dep(100)\n",
        "b.wd(3000)\n",
        "b.wd(3000)\n",
        "b.wd(3000)\n",
        "b.wd(3000)\n",
        "b.history()"
      ],
      "metadata": {
        "colab": {
          "base_uri": "https://localhost:8080/"
        },
        "id": "X8649RVnhSlt",
        "outputId": "27c5f6c4-6ac4-4ae4-b103-2bb679d2bd46"
      },
      "execution_count": 6,
      "outputs": [
        {
          "output_type": "stream",
          "name": "stdout",
          "text": [
            "a\n",
            "1회: 입금 금액:500 잔액:10500\n",
            "2회: 입금 금액:500 잔액:11000\n",
            "3회: 입금 금액:500 잔액:11500\n",
            "4회: 입금 금액:500 잔액:12000\n",
            "5회: 입금 금액:500 잔액:12500\n",
            "6회: 이자지급 금액:125 잔액:12625\n",
            "7회: 출금 금액:200 잔액:12425\n",
            "-----\n",
            "-----\n",
            "-----\n",
            "b\n",
            "잔고가 부족해요\n",
            "1회: 입금 금액:100 잔액:10100\n",
            "2회: 출금 금액:3000 잔액:7100\n",
            "3회: 출금 금액:3000 잔액:4100\n",
            "4회: 출금 금액:3000 잔액:1100\n",
            "5회: 출금실패 금액:3000 잔액:1100\n"
          ]
        }
      ]
    }
  ]
}